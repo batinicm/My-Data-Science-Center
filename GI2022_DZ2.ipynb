{
 "cells": [
  {
   "cell_type": "markdown",
   "metadata": {},
   "source": [
    "# Interactive analysis of .bam file"
   ]
  },
  {
   "cell_type": "markdown",
   "metadata": {},
   "source": [
    "**Part1: Reading the merged-tumour.bam file**"
   ]
  },
  {
   "cell_type": "code",
   "execution_count": 3,
   "metadata": {},
   "outputs": [],
   "source": [
    "import pysam\n",
    "import os\n",
    "\n",
    "tumor_filename = os.path.join(os.getcwd(), 'Files/merged-tumor.bam')\n",
    "merged_tumor_file = pysam.AlignmentFile(tumor_filename, \"rb\")"
   ]
  },
  {
   "cell_type": "markdown",
   "metadata": {},
   "source": [
    "**Part 2: Taking out and inspecting the fields of the first read**"
   ]
  },
  {
   "cell_type": "code",
   "execution_count": 4,
   "metadata": {},
   "outputs": [
    {
     "name": "stdout",
     "output_type": "stream",
     "text": [
      "C0HVYACXX120402:7:1207:5722:57044\t1187\t#20\t9483249\t27\t76M\t#20\t9483382\t209\tTTTTCAAACAGTATCTATGCCTGCCAAATGTGAACATATAAAAAAAAACCAGAATGTGCCATTCTGATTTAAACTG\tarray('B', [28, 28, 27, 29, 31, 30, 31, 31, 29, 31, 35, 30, 29, 31, 34, 30, 29, 23, 41, 32, 20, 30, 29, 34, 34, 29, 30, 31, 30, 30, 30, 33, 33, 26, 39, 12, 25, 19, 32, 30, 35, 28, 35, 33, 23, 33, 35, 36, 30, 38, 33, 41, 34, 35, 31, 33, 23, 30, 30, 36, 27, 32, 29, 34, 35, 41, 33, 31, 33, 29, 32, 32, 31, 31, 31, 34])\t[('XA', 'GL000217.1,-110754,76M,1;'), ('BD', 'NNNNNNNNNNNNNNNNNNNNNNNNNNNNNNNNNNNNNNNNNNNNNNNNNNNNNNNNNNNNNNNNNNNNNNNNNNNN'), ('MD', '76'), ('RG', '1'), ('BI', 'NNNNNNNNNNNNNNNNNNNNNNNNNNNNNNNNNNNNNNNNNNNNNNNNNNNNNNNNNNNNNNNNNNNNNNNNNNNN'), ('NM', 0), ('MQ', 27), ('AS', 76), ('XS', 71)]\n"
     ]
    }
   ],
   "source": [
    "reads = []\n",
    "for read in merged_tumor_file:\n",
    "    reads.append(read)\n",
    "\n",
    "first_read = reads[0]\n",
    "print(first_read)"
   ]
  },
  {
   "cell_type": "code",
   "execution_count": 5,
   "metadata": {},
   "outputs": [
    {
     "name": "stdout",
     "output_type": "stream",
     "text": [
      "Query name (QNAME field): C0HVYACXX120402:7:1207:5722:57044\n",
      "Flag (FLAG field): 1187\n",
      "Reference name (RNAME field): 21\n",
      "Position (POS field): 9483248\n",
      "Mapping quality (MAQ field): 27\n",
      "Cigar string (CIGAR field): 76M\n",
      "Next reference id (MRNM field): 20\n",
      "Next reference position (MPOS field): 9483381\n",
      "Insert size (ISIZE field): 209\n",
      "Query sequence (SEQ field): TTTTCAAACAGTATCTATGCCTGCCAAATGTGAACATATAAAAAAAAACCAGAATGTGCCATTCTGATTTAAACTG\n",
      "Query quality (QUAL field): array('B', [28, 28, 27, 29, 31, 30, 31, 31, 29, 31, 35, 30, 29, 31, 34, 30, 29, 23, 41, 32, 20, 30, 29, 34, 34, 29, 30, 31, 30, 30, 30, 33, 33, 26, 39, 12, 25, 19, 32, 30, 35, 28, 35, 33, 23, 33, 35, 36, 30, 38, 33, 41, 34, 35, 31, 33, 23, 30, 30, 36, 27, 32, 29, 34, 35, 41, 33, 31, 33, 29, 32, 32, 31, 31, 31, 34])\n",
      "Tags (TAG field): [('XA', 'GL000217.1,-110754,76M,1;'), ('BD', 'NNNNNNNNNNNNNNNNNNNNNNNNNNNNNNNNNNNNNNNNNNNNNNNNNNNNNNNNNNNNNNNNNNNNNNNNNNNN'), ('MD', '76'), ('RG', '1'), ('BI', 'NNNNNNNNNNNNNNNNNNNNNNNNNNNNNNNNNNNNNNNNNNNNNNNNNNNNNNNNNNNNNNNNNNNNNNNNNNNN'), ('NM', 0), ('MQ', 27), ('AS', 76), ('XS', 71)]\n"
     ]
    }
   ],
   "source": [
    "print(\"Query name (QNAME field): \" + first_read.query_name)\n",
    "print(\"Flag (FLAG field): \" + str(first_read.flag))\n",
    "print(\"Reference name (RNAME field): \" + str(first_read.reference_name))\n",
    "print(\"Position (POS field): \" + str(first_read.pos))\n",
    "print(\"Mapping quality (MAQ field): \" + str(first_read.mapping_quality))\n",
    "print(\"Cigar string (CIGAR field): \" + str(first_read.cigarstring))\n",
    "print(\"Next reference id (MRNM field): \" + str(first_read.next_reference_id))\n",
    "print(\"Next reference position (MPOS field): \" + str(first_read.next_reference_start))\n",
    "print(\"Insert size (ISIZE field): \" + str(first_read.template_length))\n",
    "print(\"Query sequence (SEQ field): \" + str(first_read.query_sequence))\n",
    "print(\"Query quality (QUAL field): \" + str(first_read.query_qualities))\n",
    "print(\"Tags (TAG field): \" + str(first_read.tags))\n"
   ]
  },
  {
   "cell_type": "markdown",
   "metadata": {},
   "source": [
    "Inspecting the flag field"
   ]
  },
  {
   "cell_type": "code",
   "execution_count": 6,
   "metadata": {},
   "outputs": [
    {
     "name": "stdout",
     "output_type": "stream",
     "text": [
      "1187\n"
     ]
    }
   ],
   "source": [
    "print(first_read.flag)"
   ]
  },
  {
   "cell_type": "markdown",
   "metadata": {},
   "source": [
    "The value of the flag is 1187 => 0x04A3, which, by the table presented in the lecture means the following: 0x0001 - the read is paired in sequencing; 0x0002 - the read is mapped in a proper pair; 0x0020 - it's a strand of the mate; 0x0080 - it's the second read in a pair and 0x0400 - the read is either a PCR duplicate or an optical duplicate"
   ]
  },
  {
   "cell_type": "markdown",
   "metadata": {},
   "source": [
    "**Part 3: Check out the flag of some reads - taking reads 10, 15 and 50 as examples**"
   ]
  },
  {
   "cell_type": "code",
   "execution_count": 7,
   "metadata": {},
   "outputs": [
    {
     "name": "stdout",
     "output_type": "stream",
     "text": [
      "Read 5 flags: 99\n",
      "Read 15 flags: 147\n",
      "Read 50 flags: 147\n"
     ]
    }
   ],
   "source": [
    "print(\"Read 5 flags: \" + str(reads[4].flag))\n",
    "print(\"Read 15 flags: \" + str(reads[14].flag))\n",
    "print(\"Read 50 flags: \" + str(reads[49].flag))"
   ]
  },
  {
   "cell_type": "markdown",
   "metadata": {},
   "source": [
    "Quick overview of the sample read flags:\n",
    "99 => 0x0063 - the read is: paired in sequencing, mapped in a proper pair, strand of the mate and the first read in a pair <br>\n",
    "147 => 0x0093 - the read is: paired in sequencing, mapped in a proper pair, strand of the query and the second read in a pair"
   ]
  },
  {
   "cell_type": "markdown",
   "metadata": {},
   "source": [
    "**Part 4: Calculating the number of unmapped reads**"
   ]
  },
  {
   "cell_type": "code",
   "execution_count": 8,
   "metadata": {},
   "outputs": [
    {
     "name": "stdout",
     "output_type": "stream",
     "text": [
      "Number of unmapped reads: 17765\n"
     ]
    }
   ],
   "source": [
    "print(\"Number of unmapped reads: \" + str(len(list(filter(lambda r: r.is_unmapped, reads)))))"
   ]
  },
  {
   "cell_type": "markdown",
   "metadata": {},
   "source": [
    "**Part 5: Calculating the total number of reads**"
   ]
  },
  {
   "cell_type": "code",
   "execution_count": 9,
   "metadata": {},
   "outputs": [
    {
     "name": "stdout",
     "output_type": "stream",
     "text": [
      "Total number of reads: 2921629\n"
     ]
    }
   ],
   "source": [
    "print(\"Total number of reads: \" + str(len(reads)))"
   ]
  },
  {
   "cell_type": "markdown",
   "metadata": {},
   "source": [
    "**Part 6: Calculating the number of reads with mapping quality = 0**"
   ]
  },
  {
   "cell_type": "code",
   "execution_count": 10,
   "metadata": {},
   "outputs": [
    {
     "name": "stdout",
     "output_type": "stream",
     "text": [
      "Number of reads with mapping quality = 0: 126628\n"
     ]
    }
   ],
   "source": [
    "print(\"Number of reads with mapping quality = 0: \" + str(len(list(filter(lambda r: r.mapping_quality == 0, reads)))))"
   ]
  },
  {
   "cell_type": "markdown",
   "metadata": {},
   "source": [
    "**Part 7: Calculating the average mapping quality**"
   ]
  },
  {
   "cell_type": "code",
   "execution_count": 12,
   "metadata": {},
   "outputs": [
    {
     "name": "stdout",
     "output_type": "stream",
     "text": [
      "Average mapping quality including reads with mapping quality == 0: 55.91379158681681\n"
     ]
    }
   ],
   "source": [
    "print(\"Average mapping quality including reads with mapping quality == 0: \" + str(sum(list(map(lambda r: r.mapping_quality, reads)))/len(reads)))"
   ]
  },
  {
   "cell_type": "markdown",
   "metadata": {},
   "source": [
    "**Part 8: Calculating the average mapping quality if reads with mapping quality == 0 are taken out**"
   ]
  },
  {
   "cell_type": "code",
   "execution_count": 16,
   "metadata": {},
   "outputs": [
    {
     "name": "stdout",
     "output_type": "stream",
     "text": [
      "Number of reads with mapping quality != 0: 2795001\n",
      "Average mapping quality without reads with mapping quality == 0: 58.446975510921106\n"
     ]
    }
   ],
   "source": [
    "reads_filtered = list(filter(lambda r: r.mapping_quality != 0, reads))\n",
    "print(\"Number of reads with mapping quality != 0: \" + str(len(reads_filtered)))\n",
    "print(\"Average mapping quality without reads with mapping quality == 0: \" + str(sum(list(map(lambda r: r.mapping_quality, reads_filtered)))/len(reads_filtered)))\n"
   ]
  }
 ],
 "metadata": {
  "kernelspec": {
   "display_name": "Python 3",
   "language": "python",
   "name": "python3"
  },
  "language_info": {
   "codemirror_mode": {
    "name": "ipython",
    "version": 3
   },
   "file_extension": ".py",
   "mimetype": "text/x-python",
   "name": "python",
   "nbconvert_exporter": "python",
   "pygments_lexer": "ipython3",
   "version": "3.8.5"
  }
 },
 "nbformat": 4,
 "nbformat_minor": 4
}
